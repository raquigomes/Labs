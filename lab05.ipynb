{
 "cells": [
  {
   "cell_type": "markdown",
   "metadata": {},
   "source": [
    "# Lab 5\n",
    "\n",
    "How to verify if a number is a possible credit card number?\n",
    "In order to verify the check digit is correct, verify the following steps:\n",
    "\n",
    "* Supose the following number=\"5105105105105100\".\n",
    "* Convert the number into a list\n",
    "* Reverse the List\n",
    "* Starting from the left digit, double every second digit.\n",
    "* If double of a digit is more than 9, add the digits.\n",
    "* Sum all the numbers except the first one multiply by 9 and remove the unit\n",
    "\n"
   ]
  },
  {
   "cell_type": "code",
   "execution_count": 1,
   "metadata": {},
   "outputs": [
    {
     "name": "stdout",
     "output_type": "stream",
     "text": [
      "['5', '1', '0', '5', '1', '0', '5', '1', '0', '5', '1', '0', '5', '1', '0', '0']\n"
     ]
    }
   ],
   "source": [
    "#Start by converting the number into a list\n",
    "number=\"5105105105105100\"\n",
    "print(list(number))"
   ]
  },
  {
   "cell_type": "code",
   "execution_count": 2,
   "metadata": {},
   "outputs": [
    {
     "name": "stdout",
     "output_type": "stream",
     "text": [
      "['5', '1', '0', '5', '1', '0', '5', '1', '0', '5', '1', '0', '5', '1', '0', '0']\n",
      "['0', '0', '1', '5', '0', '1', '5', '0', '1', '5', '0', '1', '5', '0', '1', '5']\n"
     ]
    }
   ],
   "source": [
    "#Reverse the list\n",
    "lista = list(number)\n",
    "print(lista)\n",
    "lista.reverse()\n",
    "print(lista)"
   ]
  },
  {
   "cell_type": "code",
   "execution_count": 3,
   "metadata": {},
   "outputs": [
    {
     "name": "stdout",
     "output_type": "stream",
     "text": [
      "5105105105105100\n"
     ]
    }
   ],
   "source": [
    "#Convert strings into integers - 1 Forma - Tudo um inteiro\n",
    "print(int(number))"
   ]
  },
  {
   "cell_type": "code",
   "execution_count": 4,
   "metadata": {},
   "outputs": [
    {
     "name": "stdout",
     "output_type": "stream",
     "text": [
      "[0, 0, 1, 5, 0, 1, 5, 0, 1, 5, 0, 1, 5, 0, 1, 5]\n"
     ]
    }
   ],
   "source": [
    "#Convert strings into integers - 2 Forma - Cada da lista um inteiro\n",
    "inteiros = [int(i) for i in lista]\n",
    "print(inteiros)"
   ]
  },
  {
   "cell_type": "code",
   "execution_count": 5,
   "metadata": {},
   "outputs": [
    {
     "name": "stdout",
     "output_type": "stream",
     "text": [
      "[0, 0, 2, 10, 0, 2, 10, 0, 2, 10, 0, 2, 10, 0, 2, 10]\n"
     ]
    }
   ],
   "source": [
    "# Starting from the left digit, double every second digit.\n",
    "dobro = [i*2 for i in inteiros ]\n",
    "print(dobro)"
   ]
  },
  {
   "cell_type": "code",
   "execution_count": null,
   "metadata": {},
   "outputs": [],
   "source": [
    "# If double of a digit is more then 9, add the digits.\n",
    "for i in dobro:\n",
    "    if i>9:\n",
    "        dobro.append(i)\n",
    "        i = i+1\n",
    "print(dobro)"
   ]
  },
  {
   "cell_type": "code",
   "execution_count": 6,
   "metadata": {},
   "outputs": [
    {
     "name": "stdout",
     "output_type": "stream",
     "text": [
      "[0, 1, 5, 0, 1, 5, 0, 1, 5, 0, 1, 5, 0, 1, 5]\n",
      "30\n"
     ]
    }
   ],
   "source": [
    "# Sum all the numbers except the first one\n",
    "sum = 0\n",
    "del inteiros[0]\n",
    "print(inteiros)\n",
    "for i in inteiros:\n",
    "    sum+=i\n",
    "print(sum)"
   ]
  },
  {
   "cell_type": "code",
   "execution_count": null,
   "metadata": {},
   "outputs": [
    {
     "name": "stdout",
     "output_type": "stream",
     "text": [
      "270\n"
     ]
    }
   ],
   "source": [
    "# multiply by 9 and remove the unit\n",
    "soma = int(sum)\n",
    "multiplica = sum * 9\n",
    "print(multiplica)\n",
    "while multiplica > 1:\n",
    "    multiplica = multiplica%100\n",
    "print(multiplica)"
   ]
  },
  {
   "cell_type": "markdown",
   "metadata": {},
   "source": [
    "If the last number of variable numer is the same you reached, the check digit of the credit card is correct"
   ]
  },
  {
   "cell_type": "code",
   "execution_count": null,
   "metadata": {},
   "outputs": [],
   "source": []
  }
 ],
 "metadata": {
  "kernelspec": {
   "display_name": "Python 3",
   "language": "python",
   "name": "python3"
  },
  "language_info": {
   "codemirror_mode": {
    "name": "ipython",
    "version": 3
   },
   "file_extension": ".py",
   "mimetype": "text/x-python",
   "name": "python",
   "nbconvert_exporter": "python",
   "pygments_lexer": "ipython3",
   "version": "3.7.3"
  }
 },
 "nbformat": 4,
 "nbformat_minor": 2
}
