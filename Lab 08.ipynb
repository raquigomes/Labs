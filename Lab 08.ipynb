{
 "cells": [
  {
   "cell_type": "markdown",
   "metadata": {},
   "source": [
    "# Lab 8 \n",
    "\n",
    "A simple chatbot\n",
    "\n",
    "**1.** Create a function that asks the user his name and says Hello, John Doe\n",
    "\n",
    "**2.** Create a function called chat that ask the user what is his problem and will answer \"yes of course\"\n",
    "\n",
    "**3.** Create a function called chat that ask the user what is his problem and will answer randomly among 6 possible answers\n",
    "\n",
    "**4.** Put all together and improve\n"
   ]
  },
  {
   "cell_type": "markdown",
   "metadata": {},
   "source": [
    "**1.** Create a function that ask the user his name and says Hello, John Doe"
   ]
  },
  {
   "cell_type": "code",
   "execution_count": 4,
   "metadata": {},
   "outputs": [
    {
     "name": "stdout",
     "output_type": "stream",
     "text": [
      "computer: Hi! What is your name?\n",
      "user: \n",
      "computer: Hi! What is your name?\n",
      "user: \n",
      "computer: Hi! What is your name?Raquel\n",
      "user: Raquel\n",
      "Computer: Hello, Raquel!\n"
     ]
    }
   ],
   "source": [
    "# Create a function that ask the user his name and says Hello, John Doe\n",
    "def name():\n",
    "    nome = input(\"computer: Hi! What is your name?\")\n",
    "    \n",
    "    while nome==\"\":\n",
    "        print(\"user: \")\n",
    "        nome = input(\"computer: Hi! What is your name?\")\n",
    "    print(\"user: \" + nome)\n",
    "    print(\"Computer: Hello, \" + nome + \"!\")\n",
    "    \n",
    "name()"
   ]
  },
  {
   "cell_type": "markdown",
   "metadata": {},
   "source": [
    "**2.** Create a function called chat that ask the user what is his problem and will answer \"yes of course\""
   ]
  },
  {
   "cell_type": "code",
   "execution_count": 5,
   "metadata": {},
   "outputs": [
    {
     "name": "stdout",
     "output_type": "stream",
     "text": [
      "What is your problem? \n",
      "What is your problem? \n",
      "What is your problem? \n",
      "What is your problem? \n",
      "What is your problem? jhdsgk\n",
      "yes of course\n"
     ]
    }
   ],
   "source": [
    "# Create a function called chat that ask the user what is his problem and will answer \"yes of course\"\n",
    "def called():\n",
    "    question = input(\"What is your problem? \")\n",
    "    while question == \"\":\n",
    "        print(\"What is your problem? \")\n",
    "        question = input(\"What is your problem? \")\n",
    "    print(\"yes of course\")\n",
    "    \n",
    "called()"
   ]
  },
  {
   "cell_type": "markdown",
   "metadata": {},
   "source": [
    "**3.** Create a function called chat that ask the user what is his problem and will answer randomly among 6 possible answers"
   ]
  },
  {
   "cell_type": "code",
   "execution_count": 6,
   "metadata": {},
   "outputs": [
    {
     "name": "stdout",
     "output_type": "stream",
     "text": [
      "What is your problem? \n",
      "You dont have any problems.\n",
      "What is your problem? gvj\n",
      "['What can I do for you?']\n"
     ]
    }
   ],
   "source": [
    "#Create a function called chat that ask the user what is his problem and will answer randomly among 6 possible answers\n",
    "import random\n",
    "def chat():\n",
    "    ask = input(\"What is your problem? \")\n",
    "    possible_answers = [\"Hello\", \"Goodbye\", \"Fine\", \"I dont care\", \"What can I do for you?\", \"I will help you\"]\n",
    "    \n",
    "    while ask == \"\":\n",
    "        print(\"You dont have any problems.\")\n",
    "        ask = input(\"What is your problem? \")\n",
    "    print(random.sample(possible_answers, k=1))\n",
    "\n",
    "chat()"
   ]
  },
  {
   "cell_type": "markdown",
   "metadata": {},
   "source": [
    "**4.** Put all together and improve"
   ]
  },
  {
   "cell_type": "code",
   "execution_count": 3,
   "metadata": {},
   "outputs": [
    {
     "name": "stdout",
     "output_type": "stream",
     "text": [
      "computer: Hi! What is your name?\n",
      "You dont have a name. Shame on you.\n",
      "computer: Hi! What is your name?\n",
      "You dont have a name. Shame on you.\n",
      "computer: Hi! What is your name?Raquel\n",
      "What is your problem? \n",
      "You dont have any problems.\n",
      "What is your problem? \n",
      "You dont have any problems.\n",
      "What is your problem? \n",
      "You dont have any problems.\n",
      "What is your problem? kjdhfg\n",
      "['I will help you']\n"
     ]
    }
   ],
   "source": [
    "import random\n",
    "def together():\n",
    "    nome = input(\"computer: Hi! What is your name?\")\n",
    "    \n",
    "    possible_answers = [\"Hello\", \"Goodbye\", \"Fine\", \"I dont care\", \"What can I do for you?\", \"I will help you\"]\n",
    "    \n",
    "    while nome == \"\":\n",
    "        print(\"You dont have a name. Shame on you.\")\n",
    "        nome = input(\"computer: Hi! What is your name?\")\n",
    "    ask = input(\"What is your problem? \")\n",
    "    \n",
    "    while ask ==\"\":\n",
    "        print(\"You dont have any problems.\")\n",
    "        ask = input(\"What is your problem? \")\n",
    "    print(random.sample(possible_answers, k=1))\n",
    "\n",
    "together()"
   ]
  }
 ],
 "metadata": {
  "kernelspec": {
   "display_name": "Python 3",
   "language": "python",
   "name": "python3"
  },
  "language_info": {
   "codemirror_mode": {
    "name": "ipython",
    "version": 3
   },
   "file_extension": ".py",
   "mimetype": "text/x-python",
   "name": "python",
   "nbconvert_exporter": "python",
   "pygments_lexer": "ipython3",
   "version": "3.7.3"
  }
 },
 "nbformat": 4,
 "nbformat_minor": 2
}
