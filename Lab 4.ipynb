{
 "cells": [
  {
   "cell_type": "markdown",
   "metadata": {},
   "source": [
    "1) Create a list of volume of sales considering the following assumptions:\n",
    "inicial valueSales =1000 \n",
    "anual growth rate = 10% \n",
    "number of years = 6"
   ]
  },
  {
   "cell_type": "code",
   "execution_count": 5,
   "metadata": {},
   "outputs": [
    {
     "name": "stdout",
     "output_type": "stream",
     "text": [
      "[1000, 1100.0, 1210.0, 1331.0, 1464.1, 1610.51]\n"
     ]
    }
   ],
   "source": [
    "#Opcao 1 - ciclo while\n",
    "valueSales = 1000\n",
    "rate = 0.1\n",
    "years = 6\n",
    "volume_vendas = []\n",
    "volume_vendas.append(valueSales)\n",
    "\n",
    "while years > 1:\n",
    "    valor = volume_vendas[-1]\n",
    "    formula = valor + valor * rate\n",
    "    volume_vendas.append(formula)\n",
    "    years-=1\n",
    "    \n",
    "print(volume_vendas)"
   ]
  },
  {
   "cell_type": "code",
   "execution_count": 6,
   "metadata": {},
   "outputs": [
    {
     "name": "stdout",
     "output_type": "stream",
     "text": [
      "[1000, 1100.0, 1210.0, 1331.0, 1464.1, 1610.51]\n"
     ]
    }
   ],
   "source": [
    "#Opcao 2 - ciclo for\n",
    "valueSales = 1000\n",
    "rate = 0.1\n",
    "years = 6\n",
    "volume_vendas = []\n",
    "volume_vendas.append(valueSales)\n",
    "for i in range(years-1):\n",
    "    valor = volume_vendas[-1]\n",
    "    formula = valor + valor * rate\n",
    "    volume_vendas.append(formula)\n",
    "print(volume_vendas)"
   ]
  },
  {
   "cell_type": "markdown",
   "metadata": {},
   "source": [
    "2) Based on the previews list, create a list with costs knowing the profit margin: \n",
    "margin =70%"
   ]
  },
  {
   "cell_type": "code",
   "execution_count": 7,
   "metadata": {},
   "outputs": [
    {
     "name": "stdout",
     "output_type": "stream",
     "text": [
      "[300.00000000000006, 330.00000000000006, 363.00000000000006, 399.30000000000007, 439.23, 483.1530000000001]\n"
     ]
    }
   ],
   "source": [
    "margem = 0.7\n",
    "lista_custos = []\n",
    "for i in volume_vendas:\n",
    "    formula = i * (1-margem)\n",
    "    lista_custos.append(formula)\n",
    "print(lista_custos)"
   ]
  },
  {
   "cell_type": "markdown",
   "metadata": {},
   "source": [
    "3) Create a list with the profit based on the last 2 exercises (profit = sales - cost)"
   ]
  },
  {
   "cell_type": "code",
   "execution_count": 8,
   "metadata": {},
   "outputs": [
    {
     "name": "stdout",
     "output_type": "stream",
     "text": [
      "[700.0, 770.0, 847.0, 931.6999999999999, 1024.87, 1127.357]\n"
     ]
    }
   ],
   "source": [
    "#Opcao 1\n",
    "profit = []\n",
    "for x in range(len(volume_vendas)):\n",
    "    venda = volume_vendas[x]\n",
    "    custo = lista_custos[x]\n",
    "    valor = venda - custo\n",
    "    profit.append(valor)\n",
    "print(profit)"
   ]
  },
  {
   "cell_type": "code",
   "execution_count": 9,
   "metadata": {},
   "outputs": [
    {
     "name": "stdout",
     "output_type": "stream",
     "text": [
      "[700.0, 770.0, 847.0, 931.6999999999999, 1024.87, 1127.357]\n"
     ]
    }
   ],
   "source": [
    "#Opcao 2\n",
    "Profits = [volume_vendas[i]-lista_custos[i] for i in range(0,years)]\n",
    "print(Profits)"
   ]
  },
  {
   "cell_type": "code",
   "execution_count": 10,
   "metadata": {},
   "outputs": [
    {
     "name": "stdout",
     "output_type": "stream",
     "text": [
      "[700.0, 770.0, 847.0, 931.6999999999999, 1024.87, 1127.357]\n"
     ]
    }
   ],
   "source": [
    "#Opcao 3\n",
    "Profits=[]\n",
    "years = 6\n",
    "for i in range(years):\n",
    "    Profits.append(volume_vendas[i] - lista_custos[i])\n",
    "print(Profits)"
   ]
  },
  {
   "cell_type": "markdown",
   "metadata": {},
   "source": [
    "4) Calculate a newProfit suposing 500 of fixed costs"
   ]
  },
  {
   "cell_type": "code",
   "execution_count": 11,
   "metadata": {},
   "outputs": [
    {
     "name": "stdout",
     "output_type": "stream",
     "text": [
      "[200.0, 270.0, 347.0, 431.69999999999993, 524.8699999999999, 627.357]\n"
     ]
    }
   ],
   "source": [
    "newProfit = []\n",
    "custo_fixo = 500\n",
    "for x in profit:\n",
    "    formula = x - custo_fixo\n",
    "    newProfit.append(formula)\n",
    "print(newProfit)"
   ]
  },
  {
   "cell_type": "markdown",
   "metadata": {},
   "source": [
    "5) Create a newSales list with random generated values between 200 and 2000. Corresponding to volume of sales during a certain numberOfYears. some ints:\n",
    "a) Import module, writing import random\n",
    "b) use the method random.randint(a, b). This method is used to generate values between a and b ( Return a random integer N such that a <= N <= b.):"
   ]
  },
  {
   "cell_type": "code",
   "execution_count": 12,
   "metadata": {},
   "outputs": [
    {
     "name": "stdout",
     "output_type": "stream",
     "text": [
      "[1276, 1514, 1049, 1828, 1316, 724]\n"
     ]
    }
   ],
   "source": [
    "#a\n",
    "import random\n",
    "#b\n",
    "newSales = []\n",
    "years = 6\n",
    "while years > 0:\n",
    "    r = random.randint(200,2000)\n",
    "    newSales.append(r)\n",
    "    years = years -1\n",
    "print(newSales)"
   ]
  },
  {
   "cell_type": "markdown",
   "metadata": {},
   "source": [
    "6) Create a new list with profits (newProfit). With margin 70% with fixed costs stated previously."
   ]
  },
  {
   "cell_type": "code",
   "execution_count": 13,
   "metadata": {},
   "outputs": [
    {
     "name": "stdout",
     "output_type": "stream",
     "text": [
      "[393.19999999999993, 559.8, 234.29999999999995, 779.5999999999999, 421.19999999999993, 6.7999999999999545]\n"
     ]
    }
   ],
   "source": [
    "margem = 0.7\n",
    "custo_fixo = 500\n",
    "newProfit = []\n",
    "for i in newSales:\n",
    "    formula = (i * margem) - custo_fixo\n",
    "    newProfit.append(formula)\n",
    "print(newProfit)"
   ]
  },
  {
   "cell_type": "markdown",
   "metadata": {},
   "source": [
    "7) What is the percentage of years having profits in the total?"
   ]
  },
  {
   "cell_type": "code",
   "execution_count": 14,
   "metadata": {},
   "outputs": [
    {
     "name": "stdout",
     "output_type": "stream",
     "text": [
      "6\n",
      "100.0%\n"
     ]
    }
   ],
   "source": [
    "var = 0\n",
    "for i in newProfit:\n",
    "    if i > 0:\n",
    "        var = var + 1\n",
    "print (var)\n",
    "perce = var/len(newProfit)\n",
    "print ('{:.1%}'.format(perce))"
   ]
  },
  {
   "cell_type": "markdown",
   "metadata": {},
   "source": [
    "8) Plot the sales and the newSales (generated randomly) throughout the years."
   ]
  },
  {
   "cell_type": "code",
   "execution_count": 15,
   "metadata": {},
   "outputs": [
    {
     "data": {
      "image/png": "[encoded data removed]",
      "text/plain": [
       "<Figure size 432x288 with 1 Axes>"
      ]
     },
     "metadata": {
      "needs_background": "light"
     },
     "output_type": "display_data"
    }
   ],
   "source": [
    "import matplotlib.pyplot as plt\n",
    "plt.plot(volume_vendas)\n",
    "plt.plot(newSales)\n",
    "plt.ylabel('sales')\n",
    "plt.xlabel('years')\n",
    "plt.show()"
   ]
  },
  {
   "cell_type": "code",
   "execution_count": null,
   "metadata": {},
   "outputs": [],
   "source": []
  }
 ],
 "metadata": {
  "kernelspec": {
   "display_name": "Python 3",
   "language": "python",
   "name": "python3"
  },
  "language_info": {
   "codemirror_mode": {
    "name": "ipython",
    "version": 3
   },
   "file_extension": ".py",
   "mimetype": "text/x-python",
   "name": "python",
   "nbconvert_exporter": "python",
   "pygments_lexer": "ipython3",
   "version": "3.7.3"
  }
 },
 "nbformat": 4,
 "nbformat_minor": 2
}
