{
 "cells": [
  {
   "cell_type": "code",
   "execution_count": 60,
   "metadata": {},
   "outputs": [
    {
     "name": "stdout",
     "output_type": "stream",
     "text": [
      "['potatoes', 'carrots', 'cod', 'sprouts']\n"
     ]
    }
   ],
   "source": [
    "#Exercicio 1\n",
    "#Construct a list (shoppingList) including 'potatoes', 'carrots', 'cod' and 'sprouts’\n",
    "shoppingList = [ 'potatoes', 'carrots', 'cod', 'sprouts' ]\n",
    "print(shoppingList)"
   ]
  },
  {
   "cell_type": "code",
   "execution_count": 61,
   "metadata": {},
   "outputs": [
    {
     "name": "stdout",
     "output_type": "stream",
     "text": [
      "carrots\n",
      "sprouts\n"
     ]
    }
   ],
   "source": [
    "#Exercicio 2\n",
    "#Get the second and the last element of the list\n",
    "shoppingList = [ 'potatoes', 'carrots', 'cod', 'sprouts' ]\n",
    "print(shoppingList[1])\n",
    "print(shoppingList[-1])"
   ]
  },
  {
   "cell_type": "code",
   "execution_count": 62,
   "metadata": {},
   "outputs": [
    {
     "name": "stdout",
     "output_type": "stream",
     "text": [
      "potatoes\n",
      "carrots\n",
      "cod\n",
      "sprouts\n"
     ]
    }
   ],
   "source": [
    "#Exercicio 3\n",
    "#Iterate though the list\n",
    "for x in shoppingList: \n",
    "    print(x)"
   ]
  },
  {
   "cell_type": "code",
   "execution_count": 63,
   "metadata": {},
   "outputs": [],
   "source": [
    "#Exercicio 4\n",
    "#Create a new list (studentList)\n",
    "studentList = []"
   ]
  },
  {
   "cell_type": "code",
   "execution_count": 64,
   "metadata": {},
   "outputs": [
    {
     "name": "stdout",
     "output_type": "stream",
     "text": [
      "['potatoes', 'carrots', 'cod', 'sprouts', 'orange', 'lime']\n"
     ]
    }
   ],
   "source": [
    "#Exercicio 5\n",
    "#Add the follwoing elements to the shoppingList: orange and lime\n",
    "studentList = shoppingList\n",
    "studentList.append('orange')\n",
    "studentList.append('lime')\n",
    "print(studentList)"
   ]
  },
  {
   "cell_type": "code",
   "execution_count": 78,
   "metadata": {},
   "outputs": [
    {
     "name": "stdout",
     "output_type": "stream",
     "text": [
      "['potatoes', 'cod', 'sprouts', 'orange', 'lime']\n",
      "['cod', 'sprouts', 'orange', 'lime']\n",
      "['cod', 'sprouts', 'orange']\n"
     ]
    }
   ],
   "source": [
    "#Exercicio 6\n",
    "#Remove the carrots, the first element and last element of the shoppingList list\n",
    "studentList = ['potatoes', 'carrots', 'cod', 'sprouts', 'orange', 'lime']\n",
    "studentList.remove (\"carrots\")\n",
    "#del studentList[1]\n",
    "print(studentList)\n",
    "del studentList[0]\n",
    "print(studentList)\n",
    "del studentList[-1]\n",
    "print(studentList)"
   ]
  },
  {
   "cell_type": "code",
   "execution_count": 66,
   "metadata": {},
   "outputs": [],
   "source": [
    "#Exercicio 7\n",
    "#Delete the film list\n",
    "del studentList\n",
    "#print(film)"
   ]
  },
  {
   "cell_type": "code",
   "execution_count": 67,
   "metadata": {},
   "outputs": [
    {
     "name": "stdout",
     "output_type": "stream",
     "text": [
      "[1, 4, 9, 16, 25, 36, 49, 64, 81, 100, 121, 144, 169, 196]\n"
     ]
    }
   ],
   "source": [
    "#Exercicio 8\n",
    "#Create a list with the double values os number between 1 and 15.\n",
    "double = [x**2 for x in range(1, 15)]\n",
    "print(double)"
   ]
  },
  {
   "cell_type": "code",
   "execution_count": 68,
   "metadata": {},
   "outputs": [
    {
     "name": "stdout",
     "output_type": "stream",
     "text": [
      "[1, 4, 9]\n"
     ]
    }
   ],
   "source": [
    "#Exercicio 9\n",
    "#Obtain the first 3 elements of the list\n",
    "#double[: 3]\n",
    "primeiros_tres = double[: 3]\n",
    "print(primeiros_tres)"
   ]
  },
  {
   "cell_type": "code",
   "execution_count": 74,
   "metadata": {},
   "outputs": [
    {
     "name": "stdout",
     "output_type": "stream",
     "text": [
      "['potatoes', 'carrots', 'cod', 'sprouts', 'orange', 'lime']\n"
     ]
    }
   ],
   "source": [
    "print(shoppingList)"
   ]
  },
  {
   "cell_type": "code",
   "execution_count": 79,
   "metadata": {},
   "outputs": [
    {
     "name": "stdout",
     "output_type": "stream",
     "text": [
      "['cod', 'sprouts', 'orange']\n"
     ]
    }
   ],
   "source": [
    "#Exercicio 10\n",
    "#What is the result of, Why?\n",
    "shoppingListCopy = shoppingList[:]\n",
    "print(shoppingListCopy)\n",
    "\n",
    "#Copiou a lista shoppingList para a variavel shoppingListCopy"
   ]
  },
  {
   "cell_type": "code",
   "execution_count": 80,
   "metadata": {},
   "outputs": [
    {
     "name": "stdout",
     "output_type": "stream",
     "text": [
      "['cod', 'sprouts', 'orange', 'orange']\n"
     ]
    }
   ],
   "source": [
    "#Exercicio 12\n",
    "#What is the result of, Why?\n",
    "shopping = shoppingList\n",
    "shoppingList.append(\"orange\")\n",
    "print(shopping)"
   ]
  },
  {
   "cell_type": "code",
   "execution_count": 81,
   "metadata": {},
   "outputs": [
    {
     "name": "stdout",
     "output_type": "stream",
     "text": [
      "[]\n"
     ]
    }
   ],
   "source": [
    "#Exercicio 13\n",
    "#remove all the items from the shoppingList\n",
    "shoppingList.clear()\n",
    "print(shoppingList)"
   ]
  },
  {
   "cell_type": "code",
   "execution_count": 82,
   "metadata": {},
   "outputs": [
    {
     "name": "stdout",
     "output_type": "stream",
     "text": [
      "beans\n"
     ]
    },
    {
     "ename": "TypeError",
     "evalue": "'tuple' object does not support item assignment",
     "output_type": "error",
     "traceback": [
      "\u001b[0;31m---------------------------------------------------------------------------\u001b[0m",
      "\u001b[0;31mTypeError\u001b[0m                                 Traceback (most recent call last)",
      "\u001b[0;32m<ipython-input-82-eb348faa3a76>\u001b[0m in \u001b[0;36m<module>\u001b[0;34m\u001b[0m\n\u001b[1;32m      3\u001b[0m \u001b[0mnewPurchases\u001b[0m\u001b[0;34m=\u001b[0m \u001b[0;34m(\u001b[0m\u001b[0;34m\"bananas\"\u001b[0m\u001b[0;34m,\u001b[0m \u001b[0;34m\"beans\"\u001b[0m\u001b[0;34m,\u001b[0m \u001b[0;34m\"rice\"\u001b[0m\u001b[0;34m)\u001b[0m\u001b[0;34m\u001b[0m\u001b[0;34m\u001b[0m\u001b[0m\n\u001b[1;32m      4\u001b[0m \u001b[0mprint\u001b[0m \u001b[0;34m(\u001b[0m\u001b[0mnewPurchases\u001b[0m \u001b[0;34m[\u001b[0m\u001b[0;36m1\u001b[0m\u001b[0;34m]\u001b[0m\u001b[0;34m)\u001b[0m\u001b[0;34m\u001b[0m\u001b[0;34m\u001b[0m\u001b[0m\n\u001b[0;32m----> 5\u001b[0;31m \u001b[0mnewPurchases\u001b[0m \u001b[0;34m[\u001b[0m\u001b[0;36m0\u001b[0m\u001b[0;34m]\u001b[0m \u001b[0;34m=\u001b[0m \u001b[0;34m\"apple\"\u001b[0m\u001b[0;34m\u001b[0m\u001b[0;34m\u001b[0m\u001b[0m\n\u001b[0m",
      "\u001b[0;31mTypeError\u001b[0m: 'tuple' object does not support item assignment"
     ]
    }
   ],
   "source": [
    "#Exercicio 14\n",
    "#What is the result of, Why?\n",
    "newPurchases= (\"bananas\", \"beans\", \"rice\")\n",
    "print (newPurchases [1])\n",
    "newPurchases [0] = \"apple\"\n",
    "\n",
    "#Da erro, porque os tuplos sao imutaveis"
   ]
  },
  {
   "cell_type": "code",
   "execution_count": 1,
   "metadata": {},
   "outputs": [
    {
     "name": "stdout",
     "output_type": "stream",
     "text": [
      "1 orange\n",
      "2 apple\n",
      "3 pear\n",
      "4 grape\n",
      "5 peach\n"
     ]
    }
   ],
   "source": [
    "#Exercicio 15\n",
    "'''Create a dictionary including the follwoing elements: orange, apple, pear, grape and peach. Key are 1 to 5.\n",
    "Iterate through key-value pair.'''\n",
    "dicionario = {1: 'orange', 2: 'apple', 3: 'pear', 4: 'grape',5: 'peach'}\n",
    "'''for x in dicionario:\n",
    "    print(x)'''\n",
    "\n",
    "for key,value in dicionario.items():\n",
    "    print(str(key) + \" \" + value)"
   ]
  },
  {
   "cell_type": "code",
   "execution_count": 88,
   "metadata": {},
   "outputs": [
    {
     "name": "stdout",
     "output_type": "stream",
     "text": [
      "[[1], [2], [3], [4]]\n"
     ]
    }
   ],
   "source": [
    "#Exercicio 16\n",
    "#Create a weekList that is composed of several lists, each one corresponding to a day\n",
    "weekList = [[1], [2], [3], [4]]\n",
    "print(weekList)"
   ]
  },
  {
   "cell_type": "code",
   "execution_count": null,
   "metadata": {},
   "outputs": [],
   "source": []
  }
 ],
 "metadata": {
  "kernelspec": {
   "display_name": "Python 3",
   "language": "python",
   "name": "python3"
  },
  "language_info": {
   "codemirror_mode": {
    "name": "ipython",
    "version": 3
   },
   "file_extension": ".py",
   "mimetype": "text/x-python",
   "name": "python",
   "nbconvert_exporter": "python",
   "pygments_lexer": "ipython3",
   "version": "3.7.3"
  }
 },
 "nbformat": 4,
 "nbformat_minor": 2
}
