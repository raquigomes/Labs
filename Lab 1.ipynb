{
 "cells": [
  {
   "cell_type": "code",
   "execution_count": 20,
   "metadata": {},
   "outputs": [
    {
     "data": {
      "text/plain": [
       "False"
      ]
     },
     "execution_count": 20,
     "metadata": {},
     "output_type": "execute_result"
    }
   ],
   "source": [
    "#Exercicio 1\n",
    "#Verificar se o valor está inteiro\n",
    "#n=int(input(\"Introduza um valor: \"))\n",
    "#print(n)\n",
    "valor = 3.5\n",
    "int(valor) == valor"
   ]
  },
  {
   "cell_type": "code",
   "execution_count": 22,
   "metadata": {},
   "outputs": [
    {
     "data": {
      "text/plain": [
       "False"
      ]
     },
     "execution_count": 22,
     "metadata": {},
     "output_type": "execute_result"
    }
   ],
   "source": [
    "#Exercicio 2\n",
    "#Verificar se um valor é par\n",
    "valor = 5\n",
    "valor % 2 == 0\n",
    "#So e par se for igual a 0"
   ]
  },
  {
   "cell_type": "code",
   "execution_count": 23,
   "metadata": {},
   "outputs": [
    {
     "data": {
      "text/plain": [
       "False"
      ]
     },
     "execution_count": 23,
     "metadata": {},
     "output_type": "execute_result"
    }
   ],
   "source": [
    "#Exercicio 3\n",
    "#Insert two numbers. Is the first is bigger than the second?\n",
    "valor1 = 0\n",
    "valor2 = 1\n",
    "valor1 > valor2"
   ]
  },
  {
   "cell_type": "code",
   "execution_count": 24,
   "metadata": {},
   "outputs": [
    {
     "data": {
      "text/plain": [
       "True"
      ]
     },
     "execution_count": 24,
     "metadata": {},
     "output_type": "execute_result"
    }
   ],
   "source": [
    "#Exercicio 4\n",
    "#Se um valor é multiplo do outro\n",
    "valor1 = 3\n",
    "valor2 = 9\n",
    "valor1 % valor2 == 0 or valor2 % valor1 == 0"
   ]
  },
  {
   "cell_type": "code",
   "execution_count": null,
   "metadata": {},
   "outputs": [],
   "source": [
    "#Exercicio 5\n",
    "#Calculate the interest earn by an investor that invested a capital of 200 during 3 years with an interest rate of\n",
    "capital = float(input(\"Qual o capital investido? \"))\n",
    "anos = float(input(\"Quantos anos? \"))\n",
    "taxaJuro = float(input(\"Qual a taxa de juro? \"))\n",
    "formula = capital * taxaJuro * anos\n",
    "print(formula)"
   ]
  },
  {
   "cell_type": "code",
   "execution_count": null,
   "metadata": {},
   "outputs": [],
   "source": [
    "#Exercicio 6\n",
    "#Capital that an investor obtained after investing a capital of 200 during 3 years with an interest rate of 3%.\n",
    "capital = float(input(\"Qual o capital investido? \"))\n",
    "anos = float(input(\"Quantos anos? \"))\n",
    "taxaJuro = float(input(\"Qual a taxa de juro? \"))\n",
    "formula= capital * (1+ taxaJuro)**anos\n",
    "print(formula)"
   ]
  },
  {
   "cell_type": "code",
   "execution_count": null,
   "metadata": {},
   "outputs": [],
   "source": [
    "#Exercicio 7\n",
    "#Calcular o indice de massa corporal\n",
    "altura = float(input(\"Qual a sua altura? \"))\n",
    "peso = float(input(\"Qual o seu peso? \"))\n",
    "#altura = altura **2\n",
    "#formula = peso / altura\n",
    "formula = peso / (altura**2)\n",
    "print(formula)"
   ]
  },
  {
   "cell_type": "code",
   "execution_count": null,
   "metadata": {},
   "outputs": [],
   "source": [
    "#Exercicio 8\n",
    "#Calcule the Golden ration:\n",
    "#a -  Solve the problem without using libraries\n",
    "parteSuperior = 1+ 5**(1/2)\n",
    "GoldenRatio = (parteSuperior / 2)\n",
    "print(GoldenRatio)\n",
    "#b - Use module math (import math) and function sqr (math.sqrt)\n",
    "import math\n",
    "gr=(1+math.sqrt(5))/2\n",
    "print(gr)"
   ]
  },
  {
   "cell_type": "code",
   "execution_count": 14,
   "metadata": {},
   "outputs": [
    {
     "name": "stdout",
     "output_type": "stream",
     "text": [
      "Qual é o 1º casflow? 2000\n",
      "Qual é o 2º casflow? 3000\n",
      "Qual é o 3º casflow? 4000\n",
      "Qual é o 4º casflow? 4000\n",
      "Qual é o 5º casflow? 5000\n",
      "3139.440301519393\n"
     ]
    }
   ],
   "source": [
    "#Exercicio 9\n",
    "'''Calculete the NPV (Net present value) of an investment, considering an initial investment of 10000, the following\n",
    "Cashflows 2000,3000, 4000, 4000 and 5000 and a discount rate of 10%.\n",
    "Where:\n",
    "FV = Future cost of the cash inflows, I = Initial Investment k = Discount rate equal to the owner’s cost of capital'''\n",
    "primeirocash=float(input(\"Qual é o 1º casflow? \"))\n",
    "segundocash=float(input(\"Qual é o 2º casflow? \"))\n",
    "terceirocash=float(input(\"Qual é o 3º casflow? \"))\n",
    "quartocash=float(input(\"Qual é o 4º casflow? \"))\n",
    "quintocash=float(input(\"Qual é o 5º casflow? \"))\n",
    "NPV1= (primeirocash/(1+0.1)**1)\n",
    "NPV2= (segundocash/(1+0.1)**2)\n",
    "NPV3= (terceirocash/(1+0.1)**3)\n",
    "NPV4= (quartocash/(1+0.1)**4)\n",
    "NPV5= (quintocash/(1+0.1)**5)\n",
    "soma=NPV1+NPV2+NPV3+NPV4+NPV5\n",
    "final = soma-10000\n",
    "print(final)"
   ]
  },
  {
   "cell_type": "code",
   "execution_count": 30,
   "metadata": {},
   "outputs": [
    {
     "name": "stdout",
     "output_type": "stream",
     "text": [
      "Insira o seu nome: Raquel\n",
      "Insira a sua idade: 24\n",
      "A pessoa nasceu em:1995\n",
      "A pessoa nasceu em 1995\n"
     ]
    }
   ],
   "source": [
    "#Exercicio 10\n",
    "'''Ask the user to insert name and age. Calculate the the birth. Print a result saying the 'this person was born in'\n",
    "1. Solve the problem without using modules and libraries\n",
    "2. Solve the problem using the date library from module datetime, as fallow:\n",
    "from datetime import date\n",
    "today = date.today()\n",
    "today.year'''\n",
    "name = input(\"Insira o seu nome: \")\n",
    "age = int(input(\"Insira a sua idade: \"))\n",
    "#1\n",
    "ano_atual=input(int(\"Qual é o ano atual?\"))\n",
    "nascimento = ano_atual - age\n",
    "print(\"A pessoa nasceu em \" + str(nascimento))\n",
    "\n",
    "#2\n",
    "from datetime import date\n",
    "today = date.today()\n",
    "ano_atual = today.year\n",
    "nascimento = ano_atual - age\n",
    "print(\"A pessoa nasceu em \" + str(nascimento))"
   ]
  },
  {
   "cell_type": "code",
   "execution_count": 12,
   "metadata": {},
   "outputs": [
    {
     "name": "stdout",
     "output_type": "stream",
     "text": [
      "Qual é o teu nome completo: raquel alexandra galvao gomes\n",
      "RAQUEL ALEXANDRA GALVAO GOMES\n",
      "Raquel Alexandra Galvao Gomes\n",
      "raquel alexandra galvao gomes\n",
      "Raquel alexandra galvao gomes\n"
     ]
    }
   ],
   "source": [
    "#Exercicio 11\n",
    "'''Ask the user to insert forenames, surnames. create a new variable (name) with your complete name.\n",
    "Create the follwoing variables:\n",
    "nameBig, where all the characters of the name are capitalized\n",
    "nameTitle, where the only the first character of each name (word) is capitalized\n",
    "nameSmall, where all the characters of the name are lower\n",
    "nameCapitalized, where only the first charater of the first name is capitalized'''\n",
    "name = input(\"Qual é o teu nome completo: \")\n",
    "nameBig = name.upper()\n",
    "print(nameBig)\n",
    "nameTitle = name.title()\n",
    "print(nameTitle)\n",
    "nameSmall = name.lower()\n",
    "print(nameSmall)\n",
    "nameCapitalized = name.capitalize()\n",
    "print(nameCapitalized)"
   ]
  },
  {
   "cell_type": "code",
   "execution_count": 16,
   "metadata": {},
   "outputs": [
    {
     "name": "stdout",
     "output_type": "stream",
     "text": [
      "Qual é o seu nome completo: Raquel Alexandra Galvão Gomes\n",
      "-1\n"
     ]
    }
   ],
   "source": [
    "#Exercicio 12\n",
    "'''Supopose that your name is stored in the variable name. Use the follwoing method to show where in which\n",
    "carater appears the firs \"da\".\n",
    "str.find(sub,start,end)\n",
    "str - variable to be abalysed\n",
    "sub - expression to find in the variable str\n",
    "start and end are optional values corresponding to the beginning and end posit\n",
    "ion to search.\n",
    "What happens if does not find?'''\n",
    "name=input(\"Qual é o seu nome completo: \")\n",
    "encontra = name.find(\"da\")\n",
    "print(encontra)"
   ]
  },
  {
   "cell_type": "code",
   "execution_count": null,
   "metadata": {},
   "outputs": [],
   "source": []
  }
 ],
 "metadata": {
  "kernelspec": {
   "display_name": "Python 3",
   "language": "python",
   "name": "python3"
  },
  "language_info": {
   "codemirror_mode": {
    "name": "ipython",
    "version": 3
   },
   "file_extension": ".py",
   "mimetype": "text/x-python",
   "name": "python",
   "nbconvert_exporter": "python",
   "pygments_lexer": "ipython3",
   "version": "3.7.3"
  }
 },
 "nbformat": 4,
 "nbformat_minor": 2
}
